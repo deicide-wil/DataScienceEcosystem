{
 "cells": [
  {
   "cell_type": "markdown",
   "id": "ff7a86fb",
   "metadata": {},
   "source": [
    "# Data Science Tools and Ecosystem"
   ]
  },
  {
   "cell_type": "markdown",
   "id": "dc272672",
   "metadata": {},
   "source": [
    "In this notebook, Data Science Tools and Ecosystem are summarized"
   ]
  },
  {
   "cell_type": "markdown",
   "id": "9885ada6",
   "metadata": {},
   "source": [
    "__Objectives:__\n",
    "- List popular languages for Data Sciences\n",
    "- List commonly used libraries for Data Science\n",
    "- List popular development environments for Data Science"
   ]
  },
  {
   "cell_type": "markdown",
   "id": "e7b50786",
   "metadata": {},
   "source": [
    "## Author\n",
    "Wilson Huang"
   ]
  },
  {
   "cell_type": "markdown",
   "id": "78dccc74",
   "metadata": {},
   "source": [
    "Some of the popular languages that Data Scientists use are:\n",
    "1. R\n",
    "2. Python\n",
    "3. Javascript"
   ]
  },
  {
   "cell_type": "markdown",
   "id": "939d0abf",
   "metadata": {},
   "source": [
    "Some of the commonly used libraries by Data Scientist include:\n",
    "1. TensorFlow\n",
    "2. Matplotlib\n",
    "3. Scipy"
   ]
  },
  {
   "cell_type": "markdown",
   "id": "f1923d34",
   "metadata": {},
   "source": [
    "|Data Science Tools|\n",
    "|------|\n",
    "|Jupyter|\n",
    "|Rstudio|\n",
    "|Spyder|"
   ]
  },
  {
   "cell_type": "markdown",
   "id": "38228889",
   "metadata": {},
   "source": [
    "### Below are a few examples of evaluating arithemetic expressoins in Python"
   ]
  },
  {
   "cell_type": "code",
   "execution_count": 1,
   "id": "39bad7a7",
   "metadata": {},
   "outputs": [
    {
     "data": {
      "text/plain": [
       "17"
      ]
     },
     "execution_count": 1,
     "metadata": {},
     "output_type": "execute_result"
    }
   ],
   "source": [
    "# This is a simple arithmetic expression to multiply then add integers.\n",
    "(3*4)+5"
   ]
  },
  {
   "cell_type": "code",
   "execution_count": 7,
   "id": "ae73d847",
   "metadata": {},
   "outputs": [
    {
     "name": "stdout",
     "output_type": "stream",
     "text": [
      "200 minutes = 3.3333333333333335 hours\n"
     ]
    }
   ],
   "source": [
    "# This will convert 200 minutes to hours by dividing by 60.\n",
    "mins = 200\n",
    "hours = mins/60\n",
    "print(mins, \"minutes =\", hours, \"hours\")"
   ]
  },
  {
   "cell_type": "code",
   "execution_count": null,
   "id": "a01b200b",
   "metadata": {},
   "outputs": [],
   "source": []
  }
 ],
 "metadata": {
  "kernelspec": {
   "display_name": "Python 3 (ipykernel)",
   "language": "python",
   "name": "python3"
  },
  "language_info": {
   "codemirror_mode": {
    "name": "ipython",
    "version": 3
   },
   "file_extension": ".py",
   "mimetype": "text/x-python",
   "name": "python",
   "nbconvert_exporter": "python",
   "pygments_lexer": "ipython3",
   "version": "3.11.3"
  }
 },
 "nbformat": 4,
 "nbformat_minor": 5
}
